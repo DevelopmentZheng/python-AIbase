{
  "nbformat": 4,
  "nbformat_minor": 0,
  "metadata": {
    "colab": {
      "provenance": [],
      "toc_visible": true
    },
    "kernelspec": {
      "name": "python3",
      "display_name": "Python 3"
    },
    "language_info": {
      "name": "python"
    }
  },
  "cells": [
    {
      "cell_type": "markdown",
      "source": [
        "#正确的使用python的方式：\n",
        " - 使用基本的python语法，调用大量的库包，高效愉快的完成自己的工作\n",
        "\n"
      ],
      "metadata": {
        "id": "P9D82dTWU8YU"
      }
    },
    {
      "cell_type": "markdown",
      "source": [
        "\n",
        "#知识点:\n",
        "##在python眼中,程序是如何被划分的:\n",
        "1. 脚本(script):被运行的python代码,称之为脚本,run xxx.py,xxx.py就会被称为脚本\n",
        "2. 模块(module):为何需要提出模块概念(当程序中函数非常多且琐碎时,不利于阅读,结构很差.就需要模块化)\n",
        "  模块化你的程序,将相应功能放一起能大大提高阅读代码时的效率.  \n",
        "  module的概念是相对的  \n",
        "  对于A里面import B,那么B就是A的module  \n",
        "  对于B里面import A,那么A就是B的module\n",
        "3. 包(package):使用文件夹来管理一堆python代码\n"
      ],
      "metadata": {
        "id": "Kqf4ziFgVUFh"
      }
    },
    {
      "cell_type": "markdown",
      "source": [
        "  \n",
        "###import语法\n",
        "* import module\n",
        "  - import与符号、作用域:\n",
        "    - 在当前作用域内,添加一个module符号\n",
        "    - 会执行module的程序,但无论多少次导入,只执行一次\n",
        "  - 执行后留下的符号可以通过module.符号去访问\n",
        "* import package.module(工程上基本不用):\n",
        "  - 在当前作用域里面添加一个package符号(无法通过module.符号去访问),其只导入了package.后面的module,包里其余的模块并没有被导入,无法通过package.anothermodule调用其模块的内容.\n",
        "  - 会执行module的程序,但无论多少次导入,只执行一次\n",
        "* import package:\n",
        "  1. 导入package时,跟其子module没有直接关系(即无法通过package.module.成员(使用模块内容)\n",
        "  2. 区别:\n",
        "    1. import package.module和import module导入时会执行模块的代码,代码执行完毕后会留下相应的符号,作为这给命名空间的成员,可以通过 名字.成员访问留下的符号\n",
        "  3. 其本身是没有地方容纳可以执行的代码,但可通过package.__init__文件容纳执行代码(具体请看绝对导入和相对导入).\n",
        "* 绝对导入和相对导入:\n",
        "  1. import abc 称为绝对导入,这里的符号名字是全局名字,通过某种检索规则找到你所想导入的内容\n",
        "    * 检索方式:\n",
        "      1.  在运行的script的所在目录\n",
        "      2.  PYTHONPATH目录:系统环境变量来控制的  \n",
        "      sys.path,sys这个包的path属性,其与PYTHONPATH具有同样的作用\n",
        "      3.  在系统安装目录  \n",
        "        例如E:\\Anaconda3\\Lib\\site-packages\n",
        "    *  查找包位置:  \n",
        "      使用类似如下代码就会显示出文件位置\n",
        "      ```Python\n",
        "        import numpy\n",
        "        print(numpy.__file__)\n",
        "        });\n",
        "      ```\n",
        "  2. from aaa import bbb:称为相对导入,从aaa的位置导入bbb.\n",
        "    *  aaa的情况分为:\n",
        "      1.  aaa是一个全局的包名字,from aaa import bbb:从全局的包[aaa]中导入bbb[module、package、symbol](可以导入符号等)\n",
        "      2.  aaa是一个相当于当前包的名字.以'.'或者'..'开头的路径.  \n",
        "      此时相对于当前包的这个语法,必须用在包结构里面(对于script而言,他没有包结构,因此没有相对性可言,所以不能在script中使用~~import .[module、package] import [module、package、symbol] )~~) \n",
        "      from .aaa import bbb:从当前包内的aaa模块中导入bbb[module、package、symbol]  \n",
        "      from ..aaa import bbb:从当前包上一级中的aaa模块中导入bbb[module、package、symbol]\n",
        "\n",
        "    *  例如 from . import Info\n",
        "  (即从当前文件夹位置导入Info模块,通过增加Info这个符号,实现pacage和他的子module的关联)\n",
        "    *  .与..的通用含义,:  \n",
        "    '.'表示当前目录  \n",
        "    '..'表示上一级目录\n",
        "    *  import Info,如果你系统里面存在一个Info,本地又有一个Info,就会产生歧义,系统就会忽略这串代码\n",
        "\n",
        "* 总结:\n",
        "  1. 在文件项目中,包中模块的导入:可以通过在所需要导入的包中创建__init__.py文件,在里面通过相对导入,引入其中的module.\n",
        "  2. 然后在所执行的脚本文件中导入相应的包(通过相对导入或者绝对导入),然后便可以通过package(包名).module(模块名).成员调用相应的函数或者成员.\n"
      ],
      "metadata": {
        "id": "TY9kzHcocA4T"
      }
    },
    {
      "cell_type": "code",
      "source": [
        "print(\"a=bb\")"
      ],
      "metadata": {
        "colab": {
          "base_uri": "https://localhost:8080/"
        },
        "id": "hFmWvZR_4MwU",
        "outputId": "935b90d6-9def-4853-8d3e-02046a343c65"
      },
      "execution_count": 1,
      "outputs": [
        {
          "output_type": "stream",
          "name": "stdout",
          "text": [
            "a=bb\n"
          ]
        }
      ]
    }
  ]
}