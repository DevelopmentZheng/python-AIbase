{
  "nbformat": 4,
  "nbformat_minor": 0,
  "metadata": {
    "colab": {
      "provenance": [],
      "toc_visible": true
    },
    "kernelspec": {
      "name": "python3",
      "display_name": "Python 3"
    },
    "language_info": {
      "name": "python"
    }
  },
  "cells": [
    {
      "cell_type": "markdown",
      "source": [
        "[myCOlab](https://colab.research.google.com/drive/1qNthlLHaQ6XDVQng2ljvtCG4TDYk7imq#scrollTo=P9D82dTWU8YU)\n",
        "#import模块、包、脚本概念\n",
        "---"
      ],
      "metadata": {
        "id": "P9D82dTWU8YU"
      }
    },
    {
      "cell_type": "markdown",
      "source": [
        "##一.&nbsp;在python眼中,程序是如何被划分的:"
      ],
      "metadata": {
        "id": "_zDFnwNb5Kq4"
      }
    },
    {
      "cell_type": "markdown",
      "source": [
        "*  脚本(script):被运行的python代码,称之为脚本,run xxx.py,&nbsp;&nbsp;xxx.py就会被称为脚本\n",
        "*  模块(module):为何需要提出模块概念(当程序中函数非常多且琐碎时,不利于阅读同时结构存在问题.就需要采用模块化的方式来解决这一问题).模块化你的程序,将相应功能放一起能大大提高阅读代码时的效率.<br>\n",
        "  需要注意的是module的概念是相对的  \n",
        "  在A脚本中import B,就相当于B就是A的module  \n",
        "  在B脚本中import A,就相当于A就是B的module\n",
        "*  包(package):使用文件夹来管理一堆python代码"
      ],
      "metadata": {
        "id": "cKLddToZ-kNQ"
      }
    },
    {
      "cell_type": "markdown",
      "source": [
        "##二.&nbsp;import语法"
      ],
      "metadata": {
        "id": "Lx4fKp479ZIy"
      }
    },
    {
      "cell_type": "markdown",
      "source": [
        "###  import module\n",
        "  - import与符号、作用域:\n",
        "    - 在当前作用域内,添加一个module符号\n",
        "    - 会执行module的程序,但无论多少次导入,只执行一次\n",
        "  - 执行后留下的符号可以通过module.符号去访问\n"
      ],
      "metadata": {
        "id": "TY9kzHcocA4T"
      }
    },
    {
      "cell_type": "markdown",
      "source": [
        "### import package.module(工程上基本不用):\n",
        "  - 在当前作用域里面添加一个package符号(无法通过module.符号去访问),&nbsp;因为这段代码只在当前作用域里添加了package的名称(符号).&nbsp;并且只能访问package点后面跟的module,&nbsp;包里其余的模块并没有被导入,&nbsp;因此无法通过package.其余module调用另外模块的内容.\n",
        "  - 这段代码同样会执行module里面的程序,但无论多少次导入,只执行一次\n"
      ],
      "metadata": {
        "id": "Qqd0h3sb-P5w"
      }
    },
    {
      "cell_type": "markdown",
      "source": [
        "### import&nbsp;&nbsp;package.module和import&nbsp;&nbsp;module相同点:\n",
        " *  import&nbsp;&nbsp;package.module和import&nbsp;&nbsp;module导入时都会执行模块的代码,代码执行完毕后会留下相应的符号,作为当前命名空间的成员(即运行代码所处作用域),可以通过名字.成员访问留下的符号"
      ],
      "metadata": {
        "id": "ap0g9BMkCJav"
      }
    },
    {
      "cell_type": "code",
      "source": [
        "print(locals())#可以通过locals()查看导包后当前作用域是否添加相应的名称(符号)"
      ],
      "metadata": {
        "id": "7YBZVUsm_hBX"
      },
      "execution_count": null,
      "outputs": []
    },
    {
      "cell_type": "markdown",
      "source": [
        "### import package:\n",
        "  1. 导入package时,跟其内部的module没有直接关系(即无法通过package.module.成员(使用模块内容) \n",
        "  2. 其本身(文件夹)是没有地方容纳可以执行的代码的,但可通过package中的\\_\\_init\\_\\_.py文件容纳执行代码(具体请看绝对导入和相对导入)."
      ],
      "metadata": {
        "id": "bi0hDrwC-WOR"
      }
    },
    {
      "cell_type": "markdown",
      "source": [
        "### 绝对导入\n",
        " "
      ],
      "metadata": {
        "id": "tB5mCmQY-ZOY"
      }
    },
    {
      "cell_type": "markdown",
      "source": [
        " import abc 称为绝对导入,这里的符号名字是全局名字,通过某种检索规则找到你所想导入的内容"
      ],
      "metadata": {
        "id": "QgnmK9pRGSg4"
      }
    },
    {
      "cell_type": "markdown",
      "source": [
        "* 检索方式:\n",
        "  1.  在运行的script的所在目录.\n",
        "  2.  PYTHONPATH目录:系统环境变量来控制的<br>sys.path,sys这个包的path属性,其与PYTHONPATH具有同样的作用\n",
        "  3.  在系统安装目录,&nbsp;例如:&nbsp;&nbsp;E:\\Anaconda3\\Lib\\site-packages\n",
        "*  查找包位置:  \n",
        "  使用类似如下代码就会显示出其文件所在位置"
      ],
      "metadata": {
        "id": "o9CfwgYUGjRO"
      }
    },
    {
      "cell_type": "code",
      "source": [
        "import numpy\n",
        "print(numpy.__file__)"
      ],
      "metadata": {
        "colab": {
          "base_uri": "https://localhost:8080/"
        },
        "id": "ZrCcGkWDEyyQ",
        "outputId": "9faeabda-30df-4282-ed32-fc62f9a18344"
      },
      "execution_count": 3,
      "outputs": [
        {
          "output_type": "stream",
          "name": "stdout",
          "text": [
            "/usr/local/lib/python3.10/dist-packages/numpy/__init__.py\n"
          ]
        }
      ]
    },
    {
      "cell_type": "markdown",
      "source": [
        "### 相对导入:"
      ],
      "metadata": {
        "id": "R6_gzb0xHemI"
      }
    },
    {
      "cell_type": "markdown",
      "source": [
        " from aaa import bbb:称为相对导入,从aaa的位置导入bbb.(aaa通常为包的相对地址,bbb通常为包中的模块)<br>\n",
        " 例如 from pickle import dump\n",
        "*  aaa的情况分为:\n",
        "  1.  aaa是一个全局的包名字,from aaa import bbb:从全局的包aaa中导入bbb\\[module、package、symbol\\]\n",
        "  2.  aaa是一个相对于当前包的名字.&nbsp;并以'.'或者'..'开头的路径.  \n",
        "此时相对于当前包的这个语法,必须用在包结构里面<br>(对于script而言,他没有包结构,因此没有相对性可言,所以不能在script中使用&nbsp;&nbsp;&nbsp;import .[module、package] import [module、package、symbol] )<br>from .aaa import bbb:从当前包内的aaa模块中导入bbb[module、package、symbol]<br>from ..aaa import bbb:从当前包上一级中的aaa模块中导入bbb[module、package、symbol]\n",
        "\n",
        "    *  例如在包中用&nbsp;from&nbsp;.&nbsp;import&nbsp;Info\n",
        "  (即从当前文件夹位置导入Info模块,通过增加Info这个符号,实现pacage和他的子module的关联)\n",
        "    *  .与..的通用含义,:  \n",
        "    '.'表示当前目录  \n",
        "    '..'表示上一级目录\n",
        "    *  import Info,如果你系统里面存在一个Info,本地script所在目录中又有一个Info,就会产生歧义,系统就会忽略这串代码"
      ],
      "metadata": {
        "id": "-8_9n8G4E5pB"
      }
    },
    {
      "cell_type": "markdown",
      "source": [
        "###  import使用通常总结:\n",
        "  1. 在文件项目中,包中模块的导入:可以通过在所需要导入的包中创建__init__.py文件,在里面通过相对导入,引入其中的module.\n",
        "  2. 然后在所执行的脚本文件中导入相应的包(通过相对导入或者绝对导入),然后便可以通过package(包名).module(模块名).成员调用相应的函数或者成员."
      ],
      "metadata": {
        "id": "vkKAkCER-cWw"
      }
    },
    {
      "cell_type": "markdown",
      "source": [
        "##三.&nbsp;正确的使用python的方式：\n",
        " - 使用基本的python语法，调用大量的库包，高效愉快的完成自己的工作"
      ],
      "metadata": {
        "id": "Pcwm-fbu3QII"
      }
    }
  ]
}